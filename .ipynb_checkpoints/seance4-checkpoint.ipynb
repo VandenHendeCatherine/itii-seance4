{
 "cells": [
  {
   "cell_type": "markdown",
   "metadata": {},
   "source": [
    "#Seance 4"
   ]
  },
  {
   "cell_type": "markdown",
   "metadata": {},
   "source": [
    "Ex 1: Racine quatrième \n",
    "\n",
    "Pour un nombre réel b positif, il existe un unique réel a positif tel que b^n = a. Ce réel est appelé la racine n-ième de b (ou racine n-ième principale de b).\n",
    "\n",
    "1. Donner la fonction python racine(,bn,e) qui donnée la racine n-eme de b avec une précision de e\n"
   ]
  },
  {
   "cell_type": "code",
   "execution_count": 20,
   "metadata": {},
   "outputs": [
    {
     "name": "stdout",
     "output_type": "stream",
     "text": [
      "2.0000000000000013\n"
     ]
    }
   ],
   "source": [
    "def racine(b,n,e):\n",
    "    r = e\n",
    "    while r**n < b:\n",
    "        r+=e\n",
    "    print(r)\n",
    "\n",
    "racine(16,4,0.01)"
   ]
  },
  {
   "cell_type": "markdown",
   "metadata": {},
   "source": [
    "Ex 2: Racine d'un polynome\n",
    "On appelle racine d'une polynome P une solution de l'équation (E): P(x)=0. \n",
    "\n",
    "On considère le trinome ax2+bx+c.\n",
    "\n",
    "Faire un algorithme pour trouver si il a des racines, combien, et calculer leur valeur. "
   ]
  },
  {
   "cell_type": "code",
   "execution_count": 13,
   "metadata": {},
   "outputs": [
    {
     "name": "stdout",
     "output_type": "stream",
     "text": [
      "Solutions de  3 x^2 + 2 x + 1 = 0\n",
      "Aucune solution\n",
      "None\n"
     ]
    }
   ],
   "source": [
    "from math import sqrt\n",
    "\n",
    "def polynome(a, b, c, x):\n",
    "    print (\"En\", x, \":\", a * x * x + b * x + c)\n",
    "\n",
    "def racine(a, b, c):\n",
    "    print(\"Solutions de \", a, \"x^2 +\", b, \"x +\", c, \"= 0\")\n",
    "    if a == 0:\n",
    "        if b == 0:\n",
    "            if c == 0:\n",
    "                print (\"Tout r ́eel est solution\")\n",
    "            else :\n",
    "                print (\"Aucune solution\")\n",
    "        else :\n",
    "            x = (-c * 1.0) / b\n",
    "            print (\"Une solution :\", xpolynome(a, b, c, x))\n",
    "    else :\n",
    "        d = b * b - 4 * a * c\n",
    "    if(d == 0): \n",
    "        x = -b / (2.0 * a) \n",
    "        print (\"Une solution :\", xpolynome(a, b, c, x) )\n",
    "    elif(d > 0):\n",
    "        r = sqrt(d) \n",
    "        x1 = (-b - r) / (2.0 * a) \n",
    "        x2 = (-b + r) / (2.0 * a)\n",
    "        print (\"Deux solutions :\", x1, \"et\", x2)\n",
    "        polynome(a, b, c, x1) \n",
    "        polynome(a, b, c, x2)\n",
    "    else :\n",
    "        print (\"Aucune solution\")\n",
    "\n",
    "print(racine(3,2,1))"
   ]
  },
  {
   "cell_type": "markdown",
   "metadata": {},
   "source": [
    "#Introduction a Sympy \n",
    " \n",
    "Le module Sympy  permet de faire du calcul symbolique. Par exemple, le nombre √8 est représenté par Python comme un flottant"
   ]
  },
  {
   "cell_type": "code",
   "execution_count": 14,
   "metadata": {},
   "outputs": [
    {
     "data": {
      "text/plain": [
       "2.8284271247461903"
      ]
     },
     "execution_count": 14,
     "metadata": {},
     "output_type": "execute_result"
    }
   ],
   "source": [
    "import math\n",
    "math.sqrt(8)"
   ]
  },
  {
   "cell_type": "markdown",
   "metadata": {},
   "source": [
    "L’avantage de Sympy est que √8 est gardé en tant racine et même automatiquement simplifié"
   ]
  },
  {
   "cell_type": "code",
   "execution_count": 18,
   "metadata": {},
   "outputs": [
    {
     "data": {
      "image/png": "[encoded data removed]",
      "text/latex": [
       "$\\displaystyle 2 \\sqrt{2}$"
      ],
      "text/plain": [
       "2⋅√2"
      ]
     },
     "execution_count": 18,
     "metadata": {},
     "output_type": "execute_result"
    }
   ],
   "source": [
    "from sympy import *\n",
    "\n",
    "init_printing()\n",
    "sqrt(8)"
   ]
  },
  {
   "cell_type": "markdown",
   "metadata": {},
   "source": [
    "Ex3 : Introduction\n",
    "Avant de pourvoir utiliser des variables symboliques, il faut les déclarer comme symboles:"
   ]
  },
  {
   "cell_type": "code",
   "execution_count": 25,
   "metadata": {},
   "outputs": [
    {
     "data": {
      "text/plain": [
       "\\varepsilon/4 + x**2 + 4*x + 4*y"
      ]
     },
     "execution_count": 25,
     "metadata": {},
     "output_type": "execute_result"
    }
   ],
   "source": [
    "import sympy \n",
    "x = sp.Symbol(\"x\")# definit le symbole x\n",
    "y = sp.Symbol(\"y\", real=True)# définit la variable réelle y\n",
    "e = sp.Symbol(r\"\\varepsilon\", real=True, positive=True)# définit epsilon positif\n",
    "\n",
    "x + 2*y + e/4 + x**2 + 3*x + 2*y"
   ]
  },
  {
   "cell_type": "markdown",
   "metadata": {},
   "source": [
    "1. Lire la doc de la fonction solve et l’utiliser pour calculer les racines d’un polynôme général de degré deux, puis de degré trois\n",
    "2. Lire la documentation des fonctions evalf et N pour évaluer l’expression π^2/4\n",
    "3. Déterminer la partie réelle et imaginaire de l’expression : (1+i√3)^20 / 1+i\n",
    "4. Lire la documentation de la fonction diff et calculer la dérivée de xe^x^x^x par rapport à x.\n",
    "5. Calculer avec Sympy les limites suivantes :\n",
    " * L1= lim x→0 sin(x)/x,\n",
    " * L2= lim x→0 sin(1/x),"
   ]
  },
  {
   "cell_type": "code",
   "execution_count": 33,
   "metadata": {},
   "outputs": [
    {
     "data": {
      "text/plain": [
       "<-1, 1>"
      ]
     },
     "execution_count": 33,
     "metadata": {},
     "output_type": "execute_result"
    }
   ],
   "source": [
    "# Exercice 3\n",
    "import sympy \n",
    "# 1\n",
    "\n",
    "solve(x**2 + 4*x + 6, x)\n",
    "solve(x**3 + 4*x**2 + 6*x +12,x )\n",
    "\n",
    "# 2\n",
    "sp.N(sp.pi**2 /4)\n",
    "\n",
    "#3\n",
    "sp.N((1+sp.I*sp.sqrt(3))**20 / (1+sp.I))\n",
    "\n",
    "#4\n",
    "sp.diff(x*sp.exp(x**x**x),x)\n",
    "\n",
    "#5\n",
    "#L1\n",
    "sp.limit(sp.sin(x)/x, x, 0)\n",
    "#L2\n",
    "sp.limit(sp.sin(1/x), x, 0)"
   ]
  },
  {
   "cell_type": "markdown",
   "metadata": {},
   "source": [
    "Ex 4 : Application\n",
    "Le but est d’utiliser Sympy pour résoudre symboliquement différents problèmes mathématiquesen \n",
    "1. Déterminer le nombre de zéro que contient l’entier 123!\n",
    "2. Déterminer le rapport entre la hauteur et le rayon d’un cylindre de manière à minimiser son aire à volume fixé\n",
    "3. Pour x,y∈R tels que xy <1, démontrer que arctan(x) + arctan(y) = arctan(x+y/1−xy)\n",
    "\n",
    "    "
   ]
  },
  {
   "cell_type": "code",
   "execution_count": 49,
   "metadata": {},
   "outputs": [
    {
     "ename": "TypeError",
     "evalue": "atan2 takes exactly 2 arguments (1 given)",
     "output_type": "error",
     "traceback": [
      "\u001b[1;31m---------------------------------------------------------------------------\u001b[0m",
      "\u001b[1;31mTypeError\u001b[0m                                 Traceback (most recent call last)",
      "\u001b[1;32m<ipython-input-49-d56881132335>\u001b[0m in \u001b[0;36m<module>\u001b[1;34m()\u001b[0m\n\u001b[0;32m     10\u001b[0m \u001b[1;33m\u001b[0m\u001b[0m\n\u001b[0;32m     11\u001b[0m \u001b[1;31m#3\u001b[0m\u001b[1;33m\u001b[0m\u001b[1;33m\u001b[0m\u001b[0m\n\u001b[1;32m---> 12\u001b[1;33m \u001b[0msp\u001b[0m\u001b[1;33m.\u001b[0m\u001b[0msolve\u001b[0m\u001b[1;33m(\u001b[0m\u001b[0msp\u001b[0m\u001b[1;33m.\u001b[0m\u001b[0matan2\u001b[0m\u001b[1;33m(\u001b[0m\u001b[0mx\u001b[0m\u001b[1;33m)\u001b[0m\u001b[1;33m+\u001b[0m\u001b[0msp\u001b[0m\u001b[1;33m.\u001b[0m\u001b[0matan2\u001b[0m\u001b[1;33m(\u001b[0m\u001b[0my\u001b[0m\u001b[1;33m)\u001b[0m\u001b[1;33m-\u001b[0m\u001b[0msp\u001b[0m\u001b[1;33m.\u001b[0m\u001b[0matan2\u001b[0m\u001b[1;33m(\u001b[0m\u001b[1;33m(\u001b[0m\u001b[0mx\u001b[0m\u001b[1;33m+\u001b[0m\u001b[0my\u001b[0m\u001b[1;33m)\u001b[0m\u001b[1;33m/\u001b[0m\u001b[1;33m(\u001b[0m\u001b[1;36m1\u001b[0m\u001b[1;33m-\u001b[0m\u001b[0mx\u001b[0m\u001b[1;33m*\u001b[0m\u001b[0my\u001b[0m\u001b[1;33m)\u001b[0m\u001b[1;33m)\u001b[0m\u001b[1;33m,\u001b[0m \u001b[0mx\u001b[0m\u001b[1;33m,\u001b[0m \u001b[0my\u001b[0m\u001b[1;33m)\u001b[0m\u001b[1;33m\u001b[0m\u001b[0m\n\u001b[0m",
      "\u001b[1;32mC:\\ProgramData\\Anaconda3\\lib\\site-packages\\sympy\\core\\function.py\u001b[0m in \u001b[0;36m__new__\u001b[1;34m(cls, *args, **options)\u001b[0m\n\u001b[0;32m    422\u001b[0m                 \u001b[1;34m'args'\u001b[0m\u001b[1;33m:\u001b[0m \u001b[0mmin\u001b[0m\u001b[1;33m(\u001b[0m\u001b[0mcls\u001b[0m\u001b[1;33m.\u001b[0m\u001b[0mnargs\u001b[0m\u001b[1;33m)\u001b[0m\u001b[1;33m,\u001b[0m\u001b[1;33m\u001b[0m\u001b[0m\n\u001b[0;32m    423\u001b[0m                 \u001b[1;34m'plural'\u001b[0m\u001b[1;33m:\u001b[0m \u001b[1;34m's'\u001b[0m\u001b[1;33m*\u001b[0m\u001b[1;33m(\u001b[0m\u001b[0mmin\u001b[0m\u001b[1;33m(\u001b[0m\u001b[0mcls\u001b[0m\u001b[1;33m.\u001b[0m\u001b[0mnargs\u001b[0m\u001b[1;33m)\u001b[0m \u001b[1;33m!=\u001b[0m \u001b[1;36m1\u001b[0m\u001b[1;33m)\u001b[0m\u001b[1;33m,\u001b[0m\u001b[1;33m\u001b[0m\u001b[0m\n\u001b[1;32m--> 424\u001b[1;33m                 'given': n})\n\u001b[0m\u001b[0;32m    425\u001b[0m \u001b[1;33m\u001b[0m\u001b[0m\n\u001b[0;32m    426\u001b[0m         \u001b[0mevaluate\u001b[0m \u001b[1;33m=\u001b[0m \u001b[0moptions\u001b[0m\u001b[1;33m.\u001b[0m\u001b[0mget\u001b[0m\u001b[1;33m(\u001b[0m\u001b[1;34m'evaluate'\u001b[0m\u001b[1;33m,\u001b[0m \u001b[0mglobal_evaluate\u001b[0m\u001b[1;33m[\u001b[0m\u001b[1;36m0\u001b[0m\u001b[1;33m]\u001b[0m\u001b[1;33m)\u001b[0m\u001b[1;33m\u001b[0m\u001b[0m\n",
      "\u001b[1;31mTypeError\u001b[0m: atan2 takes exactly 2 arguments (1 given)"
     ]
    }
   ],
   "source": [
    "# Exercice 4\n",
    "#1\n",
    "str(sp.factorial(123)).count('0')\n",
    "\n",
    "#2\n",
    "r=sp.Symbol(\"r\")# definit le symbole x\n",
    "V=sp.Symbol(\"V\")# definit le symbole x\n",
    "h=sp.Symbol(\"h\")\n",
    "sp.solve(sp.diff(1/r +1/h,r), r)\n",
    "\n",
    "#3\n",
    "sp.solve(sp.atan2(x)+sp.atan2(y)-sp.atan2((x+y)/(1-x*y)), x)\n"
   ]
  }
 ],
 "metadata": {
  "kernelspec": {
   "display_name": "Python 3",
   "language": "python",
   "name": "python3"
  },
  "language_info": {
   "codemirror_mode": {
    "name": "ipython",
    "version": 3
   },
   "file_extension": ".py",
   "mimetype": "text/x-python",
   "name": "python",
   "nbconvert_exporter": "python",
   "pygments_lexer": "ipython3",
   "version": "3.7.0"
  }
 },
 "nbformat": 4,
 "nbformat_minor": 4
}
